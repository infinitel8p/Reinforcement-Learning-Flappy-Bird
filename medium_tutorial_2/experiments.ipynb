{
 "cells": [
  {
   "cell_type": "code",
   "execution_count": 1,
   "metadata": {},
   "outputs": [
    {
     "name": "stdout",
     "output_type": "stream",
     "text": [
      "pygame 2.6.1 (SDL 2.28.4, Python 3.12.3)\n",
      "Hello from the pygame community. https://www.pygame.org/contribute.html\n",
      "couldn't import doomish\n",
      "Couldn't import doom\n"
     ]
    }
   ],
   "source": [
    "import os\n",
    "import sys\n",
    "# medium_tutorial_full_code/flappy_bird_reinforcement_learning/PyGame-Learning-Environment/PyGame-Learning-Environment/ple\n",
    "sys.path.append(\"pygame-le\")\n",
    "import pygame as pg\n",
    "from ple import PLE \n",
    "from ple.games.flappybird import FlappyBird\n",
    "from ple import PLE\n",
    "import agent\n",
    "import matplotlib.pyplot as plt\n",
    "import torch\n",
    "import time\n",
    "from itertools import count"
   ]
  },
  {
   "cell_type": "code",
   "execution_count": 4,
   "metadata": {},
   "outputs": [
    {
     "name": "stderr",
     "output_type": "stream",
     "text": [
      "libpng warning: iCCP: known incorrect sRGB profile\n",
      "libpng warning: iCCP: known incorrect sRGB profile\n",
      "libpng warning: iCCP: known incorrect sRGB profile\n",
      "libpng warning: iCCP: known incorrect sRGB profile\n",
      "libpng warning: iCCP: known incorrect sRGB profile\n",
      "libpng warning: iCCP: known incorrect sRGB profile\n",
      "libpng warning: iCCP: known incorrect sRGB profile\n",
      "libpng warning: iCCP: known incorrect sRGB profile\n",
      "libpng warning: iCCP: known incorrect sRGB profile\n",
      "libpng warning: iCCP: known incorrect sRGB profile\n",
      "libpng warning: iCCP: known incorrect sRGB profile\n"
     ]
    },
    {
     "name": "stdout",
     "output_type": "stream",
     "text": [
      "{'player_y': 128, 'player_vel': 0, 'next_pipe_dist_to_player': 283.0, 'next_pipe_top_y': 32, 'next_pipe_bottom_y': 132, 'next_next_pipe_dist_to_player': 411.0, 'next_next_pipe_top_y': 50, 'next_next_pipe_bottom_y': 150}\n"
     ]
    }
   ],
   "source": [
    "game = FlappyBird(width=256, height=256)\n",
    "p = PLE(game, display_screen=True)\n",
    "p.init()\n",
    "actions = p.getActionSet()\n",
    "#List of possible actions is go up or do nothing\n",
    "action_dict = {0: actions[1], 1: actions[0]}\n",
    "\n",
    "#get the initial game state\n",
    "state = p.getGameState()\n",
    "print(state)\n",
    "len_state = len(state)\n",
    "n_actions = len(action_dict)\n",
    "\n"
   ]
  },
  {
   "cell_type": "code",
   "execution_count": 2,
   "metadata": {},
   "outputs": [
    {
     "name": "stderr",
     "output_type": "stream",
     "text": [
      "/tmp/ipykernel_249879/3416161503.py:1: FutureWarning: You are using `torch.load` with `weights_only=False` (the current default value), which uses the default pickle module implicitly. It is possible to construct malicious pickle data which will execute arbitrary code during unpickling (See https://github.com/pytorch/pytorch/blob/main/SECURITY.md#untrusted-models for more details). In a future release, the default value for `weights_only` will be flipped to `True`. This limits the functions that could be executed during unpickling. Arbitrary objects will no longer be allowed to be loaded via this mode unless they are explicitly allowlisted by the user via `torch.serialization.add_safe_globals`. We recommend you start setting `weights_only=True` for any use case where you don't have full control of the loaded file. Please open an issue on GitHub for any issues related to this experimental feature.\n",
      "  policy_net_weights = torch.load('weights/weights_14:08:27-04.02.2025/DuelingDQN_policy_net.pt')\n",
      "/tmp/ipykernel_249879/3416161503.py:2: FutureWarning: You are using `torch.load` with `weights_only=False` (the current default value), which uses the default pickle module implicitly. It is possible to construct malicious pickle data which will execute arbitrary code during unpickling (See https://github.com/pytorch/pytorch/blob/main/SECURITY.md#untrusted-models for more details). In a future release, the default value for `weights_only` will be flipped to `True`. This limits the functions that could be executed during unpickling. Arbitrary objects will no longer be allowed to be loaded via this mode unless they are explicitly allowlisted by the user via `torch.serialization.add_safe_globals`. We recommend you start setting `weights_only=True` for any use case where you don't have full control of the loaded file. Please open an issue on GitHub for any issues related to this experimental feature.\n",
      "  target_net_weights = torch.load('weights/weights_14:08:27-04.02.2025/DuelingDQN_target_net.pt')\n"
     ]
    }
   ],
   "source": [
    "policy_net_weights = torch.load('weights/weights_14:08:27-04.02.2025/DuelingDQN_policy_net.pt')\n",
    "target_net_weights = torch.load('weights/weights_14:08:27-04.02.2025/DuelingDQN_target_net.pt')"
   ]
  },
  {
   "cell_type": "code",
   "execution_count": 5,
   "metadata": {},
   "outputs": [
    {
     "name": "stdout",
     "output_type": "stream",
     "text": [
      "Device: cpu\n"
     ]
    },
    {
     "data": {
      "text/plain": [
       "<All keys matched successfully>"
      ]
     },
     "execution_count": 5,
     "metadata": {},
     "output_type": "execute_result"
    }
   ],
   "source": [
    "class GraphSaver():\n",
    "    def __init__(self, plot_savedir, net_savedir):\n",
    "        self.plot_savedir = plot_savedir\n",
    "        self.net_savedir = net_savedir\n",
    "        self.init_save_time = time.strftime('%H:%M:%S-%d.%m.%Y')\n",
    "\n",
    "    def plot_single_graph(self, subplot, values, y_label, plot_avg=True):\n",
    "        plt.subplot(*subplot)\n",
    "        plt.ylabel(y_label)\n",
    "        plt.plot(values.numpy(), label=y_label)\n",
    "        if len(values) >= 100 and plot_avg:\n",
    "            means = values.unfold(0, 100, 1).mean(1).view(-1)\n",
    "            means = torch.cat((torch.zeros(99), means))\n",
    "            plt.plot(means.numpy(), label=\"Avg (100)\")\n",
    "        plt.legend()\n",
    "\n",
    "    def plot_graphs(self, agent):\n",
    "        plt.figure(figsize=(12, 8))\n",
    "        plt.clf()\n",
    "\n",
    "        # Get data from the agent\n",
    "        durations_t = torch.tensor(agent.episode_durations, dtype=torch.float)\n",
    "        rewards_t = torch.tensor(agent.episode_rewards, dtype=torch.float)\n",
    "        epsilons_t = torch.tensor(agent.episode_epsilons, dtype=torch.float)\n",
    "        scores_t = torch.tensor(agent.episode_scores, dtype=torch.float)\n",
    "\n",
    "        self.plot_single_graph((2,2,1), durations_t, 'Duration')\n",
    "        self.plot_single_graph((2,2,2), rewards_t, 'Reward')\n",
    "        self.plot_single_graph((2,2,3), scores_t, 'Score')\n",
    "        self.plot_single_graph((2,2,4), epsilons_t, 'Epsilon', plot_avg=False)\n",
    "\n",
    "        plt.tight_layout()\n",
    "        plt.pause(0.001)  # Pause to update the plots\n",
    "        plt.savefig(os.path.join(self.plot_savedir, agent.network_type + f'_{self.init_save_time}_training.png'))\n",
    "\n",
    "    def save_net(self, agent):\n",
    "        dir_path = os.path.join(self.net_savedir, f'weights_{self.init_save_time}')\n",
    "        if not os.path.exists(dir_path):\n",
    "            os.makedirs(dir_path)\n",
    "        torch.save(agent.target_net.state_dict(), os.path.join(dir_path, f'{agent.network_type}_target_net.pt'))\n",
    "        torch.save(agent.policy_net.state_dict(), os.path.join(dir_path, f'{agent.network_type}_policy_net.pt'))\n",
    "\n",
    "flappy_bird_plot_saver = GraphSaver('medium_tutorial_2/graphs', 'medium_tutorial_2/weights')\n",
    "\n",
    "#Create the agent and train it\n",
    "fb_agent = agent.Agent(\n",
    "    BATCH_SIZE=32, \n",
    "    MEMORY_SIZE=100000, \n",
    "    GAMMA=0.99, \n",
    "    input_dim=len_state, \n",
    "    output_dim=n_actions, \n",
    "    action_dim=n_actions, \n",
    "    action_dict=action_dict, \n",
    "    EPS_START=1.0, \n",
    "    EPS_END=0.05, \n",
    "    EPS_DECAY_VALUE=0.999995, \n",
    "    TAU = 0.005, \n",
    "    network_type='DuelingDQN', \n",
    "    lr = 1e-4,\n",
    "    graph_saver=flappy_bird_plot_saver,\n",
    "    device='cpu'\n",
    ")\n",
    "fb_agent.policy_net.load_state_dict(policy_net_weights)\n",
    "fb_agent.target_net.load_state_dict(target_net_weights)"
   ]
  },
  {
   "cell_type": "code",
   "execution_count": 6,
   "metadata": {},
   "outputs": [],
   "source": [
    "fb_agent.eps = 0.01"
   ]
  },
  {
   "cell_type": "code",
   "execution_count": 7,
   "metadata": {},
   "outputs": [
    {
     "data": {
      "text/plain": [
       "0"
      ]
     },
     "execution_count": 7,
     "metadata": {},
     "output_type": "execute_result"
    }
   ],
   "source": [
    "state = torch.tensor(list(state.values()), dtype=torch.float32, device=fb_agent.device)\n",
    "fb_agent.take_action(state)"
   ]
  },
  {
   "cell_type": "code",
   "execution_count": 9,
   "metadata": {},
   "outputs": [
    {
     "ename": "",
     "evalue": "",
     "output_type": "error",
     "traceback": [
      "\u001b[1;31mThe Kernel crashed while executing code in the current cell or a previous cell. \n",
      "\u001b[1;31mPlease review the code in the cell(s) to identify a possible cause of the failure. \n",
      "\u001b[1;31mClick <a href='https://aka.ms/vscodeJupyterKernelCrash'>here</a> for more info. \n",
      "\u001b[1;31mView Jupyter <a href='command:jupyter.viewOutput'>log</a> for further details."
     ]
    }
   ],
   "source": [
    "p.reset_game()\n",
    "state = p.getGameState()\n",
    "state = torch.tensor(list(state.values()), dtype=torch.float32, device=fb_agent.device)\n",
    "reward_sum = 0\n",
    "#Inf count functiom\n",
    "for c in count():\n",
    "    #Choose an action, get back the reward and the next state as a result of taking the action\n",
    "    action = fb_agent.take_action(state)\n",
    "    reward = p.act(fb_agent.action_dict[action])\n",
    "    reward = torch.tensor([reward], device=fb_agent.device)\n",
    "    reward_sum += reward.item()\n",
    "    action = torch.tensor([action], device=fb_agent.device)\n",
    "    next_state = p.getGameState()\n",
    "    next_state = torch.tensor(list(next_state.values()), dtype=torch.float32, device=fb_agent.device)\n",
    "    done = p.game_over()\n",
    "    #if game is over, next state is None\n",
    "    if done:\n",
    "        next_state = None\n",
    "    #Set the state to the next state\n",
    "    state = next_state\n",
    "    pg.display.update()\n",
    "    if done:\n",
    "        #Start a new episode\n",
    "        break"
   ]
  },
  {
   "cell_type": "code",
   "execution_count": null,
   "metadata": {},
   "outputs": [],
   "source": []
  }
 ],
 "metadata": {
  "kernelspec": {
   "display_name": ".venv",
   "language": "python",
   "name": "python3"
  },
  "language_info": {
   "codemirror_mode": {
    "name": "ipython",
    "version": 3
   },
   "file_extension": ".py",
   "mimetype": "text/x-python",
   "name": "python",
   "nbconvert_exporter": "python",
   "pygments_lexer": "ipython3",
   "version": "3.12.3"
  }
 },
 "nbformat": 4,
 "nbformat_minor": 2
}
